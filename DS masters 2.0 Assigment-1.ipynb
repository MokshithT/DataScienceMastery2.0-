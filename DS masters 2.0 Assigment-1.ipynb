{
 "cells": [
  {
   "cell_type": "code",
   "execution_count": 1,
   "metadata": {},
   "outputs": [
    {
     "data": {
      "text/plain": [
       "'Q Q1. Create one variable containing following type of data:\\n(i) string\\n(ii) list\\n(iii) float\\n(iv) tuple '"
      ]
     },
     "execution_count": 1,
     "metadata": {},
     "output_type": "execute_result"
    }
   ],
   "source": [
    "\"\"\"Q Q1. Create one variable containing following type of data:\n",
    "(i) string\n",
    "(ii) list\n",
    "(iii) float\n",
    "(iv) tuple \"\"\""
   ]
  },
  {
   "cell_type": "code",
   "execution_count": 2,
   "metadata": {},
   "outputs": [],
   "source": [
    "var = \"PW Skills\"\n",
    "lis = [1,2,3,4]\n",
    "f = 12.66\n",
    "tupleT = (1,2,3,4)"
   ]
  },
  {
   "cell_type": "code",
   "execution_count": 3,
   "metadata": {},
   "outputs": [
    {
     "name": "stdout",
     "output_type": "stream",
     "text": [
      "<class 'str'>\n",
      "<class 'str'>\n",
      "<class 'list'>\n",
      "<class 'int'>\n"
     ]
    }
   ],
   "source": [
    "\"\"\" Q2. Given are some following variables containing data:\n",
    "(i) var1 = ‘ ‘\n",
    "(ii) var2 = ‘[ DS , ML , Python]’\n",
    "(iii) var3 = [ ‘DS’ , ’ML’ , ‘Python’ ]\n",
    "(iv) var4 = 1. \n",
    "What will be the data type of the above given variable.\n",
    "\"\"\"\n",
    "var1 =''\n",
    "print(type(var1))\n",
    "var2 = '[ DS , ML , Python]'\n",
    "print(type(var2))\n",
    "var3 = [ 'DS', 'ML' , 'Python' ]\n",
    "print(type(var3))\n",
    "var4 =1\n",
    "print(type(var4))\n",
    "\n",
    "#(i)<class 'str'>\n",
    "#(ii) <class 'str'>\n",
    "#(iii) <class 'list'>\n",
    "#(iv) <class 'int'>"
   ]
  },
  {
   "cell_type": "code",
   "execution_count": 4,
   "metadata": {},
   "outputs": [
    {
     "name": "stdout",
     "output_type": "stream",
     "text": [
      "3.3333333333333335\n",
      "1\n",
      "3\n",
      "8\n"
     ]
    }
   ],
   "source": [
    "\"\"\"Q3. Explain the use of the following operators using an example:\n",
    "(i) /\n",
    "(ii) %\n",
    "(iii) //\n",
    "(iv) ** \"\"\"\n",
    "\n",
    "#(i) /\n",
    "result = 10 / 3\n",
    "print(result)  # Output: 3.3333333333333335\n",
    "\n",
    "#(ii) %\n",
    "remainder = 10 % 3\n",
    "print(remainder)  # Output: 1\n",
    "\n",
    "#(iii) //\n",
    "result = 10 // 3\n",
    "print(result)  # Output: 3\n",
    "\n",
    "#(iv) **\n",
    "result = 2 ** 3\n",
    "print(result)  # Output: 8\n"
   ]
  },
  {
   "cell_type": "code",
   "execution_count": 5,
   "metadata": {},
   "outputs": [
    {
     "name": "stdout",
     "output_type": "stream",
     "text": [
      "Element: 42, Data Type: <class 'int'>\n",
      "Element: Hello, Data Type: <class 'str'>\n",
      "Element: 3.14, Data Type: <class 'float'>\n",
      "Element: True, Data Type: <class 'bool'>\n",
      "Element: [1, 2, 3], Data Type: <class 'list'>\n",
      "Element: {'name': 'John', 'age': 30}, Data Type: <class 'dict'>\n",
      "Element: None, Data Type: <class 'NoneType'>\n",
      "Element: (1, 2), Data Type: <class 'tuple'>\n",
      "Element: False, Data Type: <class 'bool'>\n",
      "Element: World, Data Type: <class 'str'>\n"
     ]
    }
   ],
   "source": [
    "#Q4. Create a list of length 10 of your choice containing multiple types of data. Using for loop print the element and its data type.\n",
    "my_list = [42, \"Hello\", 3.14, True, [1, 2, 3], {\"name\": \"John\", \"age\": 30}, None, (1, 2), False, \"World\"]\n",
    "\n",
    "for item in my_list:\n",
    "    print(f\"Element: {item}, Data Type: {type(item)}\")\n"
   ]
  },
  {
   "cell_type": "code",
   "execution_count": 6,
   "metadata": {},
   "outputs": [
    {
     "name": "stdout",
     "output_type": "stream",
     "text": [
      "1 divisions of 3 completely divide 1\n"
     ]
    }
   ],
   "source": [
    "#Q5. Using a while loop, verify if the number A is purely divisible by number B and if so then how many times it can be divisible.\n",
    "# Input the values of A and B\n",
    "A = int(input(\"Enter the number A: \"))\n",
    "B = int(input(\"Enter the number B: \"))\n",
    "\n",
    "# Initialize a variable to count the number of divisions\n",
    "count = 0\n",
    "\n",
    "# Use a while loop to check divisibility and count divisions\n",
    "while A % B == 0:\n",
    "    A = A // B  # Divide A by B and update A\n",
    "    count += 1  # Increment the count\n",
    "\n",
    "# Check if A becomes 1, indicating pure divisibility\n",
    "if A == 1:\n",
    "    print(f\"{count} divisions of {B} completely divide {A}\")\n",
    "else:\n",
    "    print(f\"{B} does not completely divide {A}\")\n"
   ]
  },
  {
   "cell_type": "code",
   "execution_count": 7,
   "metadata": {},
   "outputs": [
    {
     "name": "stdout",
     "output_type": "stream",
     "text": [
      "15 is divisible by 3\n",
      "6 is divisible by 3\n",
      "8 is not divisible by 3\n",
      "9 is divisible by 3\n",
      "27 is divisible by 3\n",
      "14 is not divisible by 3\n",
      "21 is divisible by 3\n",
      "33 is divisible by 3\n",
      "12 is divisible by 3\n",
      "5 is not divisible by 3\n",
      "18 is divisible by 3\n",
      "10 is not divisible by 3\n",
      "30 is divisible by 3\n",
      "7 is not divisible by 3\n",
      "22 is not divisible by 3\n",
      "25 is not divisible by 3\n",
      "3 is divisible by 3\n",
      "36 is divisible by 3\n",
      "42 is divisible by 3\n",
      "17 is not divisible by 3\n",
      "13 is not divisible by 3\n",
      "20 is not divisible by 3\n",
      "24 is divisible by 3\n",
      "19 is not divisible by 3\n",
      "4 is not divisible by 3\n"
     ]
    }
   ],
   "source": [
    "#Q6. Create a list containing 25 int type data. Using for loop and if-else condition print if the element is divisible by 3 or not.\n",
    "# Create a list of 25 integers\n",
    "my_list = [15, 6, 8, 9, 27, 14, 21, 33, 12, 5, 18, 10, 30, 7, 22, 25, 3, 36, 42, 17, 13, 20, 24, 19, 4]\n",
    "\n",
    "# Use a for loop to iterate through the list\n",
    "for num in my_list:\n",
    "    if num % 3 == 0:\n",
    "        print(f\"{num} is divisible by 3\")\n",
    "    else:\n",
    "        print(f\"{num} is not divisible by 3\")\n"
   ]
  },
  {
   "cell_type": "code",
   "execution_count": 8,
   "metadata": {},
   "outputs": [
    {
     "data": {
      "text/plain": [
       "'\\n'"
      ]
     },
     "execution_count": 8,
     "metadata": {},
     "output_type": "execute_result"
    }
   ],
   "source": [
    "#What do you understand about mutable and immutable data types? Give examples for both showing\n",
    "# this property.\n",
    "\"\"\"\n",
    "Mutable and immutable are terms used to describe whether a data type can be modified after it is created. In programming, this distinction is essential because it affects how data can be stored, manipulated, and shared.\n",
    "\n",
    "**Mutable Data Types**:\n",
    "- Mutable data types are data structures whose contents can be altered or modified after they are created.\n",
    "- When you modify a mutable object, you are typically modifying the same object in memory rather than creating a new one.\n",
    "- Examples of mutable data types in Python include lists, dictionaries, and sets.\n",
    "\n",
    "Here's an example of a mutable data type (list):\n",
    "\n",
    "```python\n",
    "my_list = [1, 2, 3]\n",
    "print(my_list)  # Output: [1, 2, 3]\n",
    "\n",
    "# Modifying the list\n",
    "my_list.append(4)\n",
    "print(my_list)  # Output: [1, 2, 3, 4]\n",
    "```\n",
    "\n",
    "In this example, we modify the `my_list` by adding an element to it using the `append` method. The original list is changed in memory.\n",
    "\n",
    "**Immutable Data Types**:\n",
    "- Immutable data types are data structures whose contents cannot be changed after they are created.\n",
    "- When you modify an immutable object, a new object is typically created with the modified value, leaving the original object unchanged.\n",
    "- Examples of immutable data types in Python include strings, tuples, and numeric types (integers, floats).\n",
    "\n",
    "Here's an example of an immutable data type (string):\n",
    "\n",
    "```python\n",
    "my_string = \"Hello\"\n",
    "print(my_string)  # Output: \"Hello\"\n",
    "\n",
    "# Modifying the string (creating a new string)\n",
    "my_string = my_string + \" World\"\n",
    "print(my_string)  # Output: \"Hello World\"\n",
    "```\n",
    "\n",
    "In this example, when we concatenate the string with \" World,\" a new string is created with the combined value. The original string remains unchanged.\n",
    "\n",
    "In summary, the key difference between mutable and immutable data types is whether the data can be modified in-place or if a new object is created when changes are made. Mutable data types can be modified, while immutable data types cannot be altered after creation. Understanding this distinction is important for working with data effectively in programming.\n",
    "\"\"\""
   ]
  }
 ],
 "metadata": {
  "kernelspec": {
   "display_name": "Python 3",
   "language": "python",
   "name": "python3"
  },
  "language_info": {
   "codemirror_mode": {
    "name": "ipython",
    "version": 3
   },
   "file_extension": ".py",
   "mimetype": "text/x-python",
   "name": "python",
   "nbconvert_exporter": "python",
   "pygments_lexer": "ipython3",
   "version": "3.11.4"
  },
  "orig_nbformat": 4
 },
 "nbformat": 4,
 "nbformat_minor": 2
}
